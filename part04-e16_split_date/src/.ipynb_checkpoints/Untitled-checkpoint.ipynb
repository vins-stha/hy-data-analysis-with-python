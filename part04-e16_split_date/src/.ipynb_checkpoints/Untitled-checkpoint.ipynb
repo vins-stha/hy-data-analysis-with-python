{
 "cells": [
  {
   "cell_type": "code",
   "execution_count": 73,
   "metadata": {},
   "outputs": [],
   "source": [
    "\n",
    "import pandas as pd\n",
    "import numpy as np\n",
    "\n",
    "\n",
    "df = pd.read_csv(\"Helsingin_pyorailijamaarat.csv\",sep=\";\")\n",
    "df.head()\n",
    "df_new = df.iloc[:,:5]\n",
    "df_new\n",
    "df.shape\n",
    "days = [\"mon\",\"tues\",\"wed\"]\n",
    "#df_new.dropna(axis=0, how=\"any\")\n",
    "\n",
    "\n"
   ]
  },
  {
   "cell_type": "code",
   "execution_count": 97,
   "metadata": {},
   "outputs": [
    {
     "data": {
      "text/plain": [
       "Weekday    0\n",
       "Day        0\n",
       "Month      0\n",
       "Year       0\n",
       "Hour       0\n",
       "dtype: int64"
      ]
     },
     "execution_count": 97,
     "metadata": {},
     "output_type": "execute_result"
    }
   ],
   "source": [
    "paiva = df_new[\"Päivämäärä\"].str.split(expand=True)\n",
    "#df_new.replace([\"ma\",\"ti\",\"ke\"], [\"mon\",\"tues\",\"wed\"])\n",
    "months_name=[\"tammi\",\"helmi\",\"maalis\",\"huhti\",\"touko\",\"kesä\",\"heinä\",\"elo\",\"syys\",\"loka\",\"marras\",\"joulu\"]\n",
    "months_num = list(range(1,13))\n",
    "#paiva[0].replace([\"ma\",\"ti\",\"ke\",\"to\",\"pe\",\"la\",\"su\"], [\"Mon\",\"Tue\",\"Wed\",\"Thu\",\"Fri\",\"Sat\",\"Sun\"], inplace = True)\n",
    "paiva[0]=paiva[0].map(({\"ma\":\"kitten\",\"ke\":\"bueudha\"}))\n",
    "paiva[2].replace(months_name,months_num, inplace=True )\n",
    "paiva[4]=paiva[4].str.strip(\":\")\n",
    "\n",
    "paiva[4]= paiva[4].str.replace(\":00\",\"\")\n",
    "#pd.to_numeric(paiva[4],downcast = \"integer\")\n",
    "\n",
    "paiva.head()\n",
    "paiva.dropna(how=\"any\",inplace = True)\n",
    "\n",
    "#list(range(1,13))\n",
    "paiva = paiva.rename(columns = \n",
    "        {\n",
    "            0 : \"Weekday\",\n",
    "            1 : \"Day\",\n",
    "            2 : \"Month\",\n",
    "            3 : \"Year\",\n",
    "            4 : \"Hour\"\n",
    "        })\n",
    "dates = paiva\n",
    "dates.dropna(how=\"any\",inplace = True)\n",
    "\n",
    "dates.astype({\"Day\":\"int32\", \"Year\":\"int32\", \"Hour\":\"int32\", \"Month\":\"int32\"}).dtypes\n",
    "\n",
    "dates.isnull().sum()\n",
    "\n"
   ]
  },
  {
   "cell_type": "code",
   "execution_count": 105,
   "metadata": {},
   "outputs": [
    {
     "data": {
      "text/html": [
       "<div>\n",
       "<style scoped>\n",
       "    .dataframe tbody tr th:only-of-type {\n",
       "        vertical-align: middle;\n",
       "    }\n",
       "\n",
       "    .dataframe tbody tr th {\n",
       "        vertical-align: top;\n",
       "    }\n",
       "\n",
       "    .dataframe thead th {\n",
       "        text-align: right;\n",
       "    }\n",
       "</style>\n",
       "<table border=\"1\" class=\"dataframe\">\n",
       "  <thead>\n",
       "    <tr style=\"text-align: right;\">\n",
       "      <th></th>\n",
       "      <th>A</th>\n",
       "      <th>B</th>\n",
       "      <th>C</th>\n",
       "    </tr>\n",
       "  </thead>\n",
       "  <tbody>\n",
       "    <tr>\n",
       "      <th>0</th>\n",
       "      <td>A0</td>\n",
       "      <td>B0</td>\n",
       "      <td>C0</td>\n",
       "    </tr>\n",
       "    <tr>\n",
       "      <th>1</th>\n",
       "      <td>A1</td>\n",
       "      <td>B1</td>\n",
       "      <td>C1</td>\n",
       "    </tr>\n",
       "    <tr>\n",
       "      <th>2</th>\n",
       "      <td>A2</td>\n",
       "      <td>B2</td>\n",
       "      <td>C2</td>\n",
       "    </tr>\n",
       "    <tr>\n",
       "      <th>5</th>\n",
       "      <td>A5</td>\n",
       "      <td>B5</td>\n",
       "      <td>C5</td>\n",
       "    </tr>\n",
       "    <tr>\n",
       "      <th>7</th>\n",
       "      <td>A7</td>\n",
       "      <td>B7</td>\n",
       "      <td>C7</td>\n",
       "    </tr>\n",
       "    <tr>\n",
       "      <th>8</th>\n",
       "      <td>A8</td>\n",
       "      <td>B8</td>\n",
       "      <td>C8</td>\n",
       "    </tr>\n",
       "  </tbody>\n",
       "</table>\n",
       "</div>"
      ],
      "text/plain": [
       "    A   B   C\n",
       "0  A0  B0  C0\n",
       "1  A1  B1  C1\n",
       "2  A2  B2  C2\n",
       "5  A5  B5  C5\n",
       "7  A7  B7  C7\n",
       "8  A8  B8  C8"
      ]
     },
     "execution_count": 105,
     "metadata": {},
     "output_type": "execute_result"
    }
   ],
   "source": [
    "def makedf(cols, ind):\n",
    "    data = {c : [str(c) + str(i) for i in ind] for c in cols}\n",
    "    \n",
    "    return pd.DataFrame(data, ind)\n",
    "ind = [i for i in range(3)]\n",
    "a=makedf(\"ABC\", ind)\n",
    "a\n",
    "b=makedf(\"abc\", ind)\n",
    "b\n",
    "pd.concat([a,b], sort=False)\n",
    "c = makedf(\"ABC\", [5,7,8])\n",
    "pd.concat([a,a],sort=False)"
   ]
  }
 ],
 "metadata": {
  "kernelspec": {
   "display_name": "Python 3",
   "language": "python",
   "name": "python3"
  },
  "language_info": {
   "codemirror_mode": {
    "name": "ipython",
    "version": 3
   },
   "file_extension": ".py",
   "mimetype": "text/x-python",
   "name": "python",
   "nbconvert_exporter": "python",
   "pygments_lexer": "ipython3",
   "version": "3.7.3"
  }
 },
 "nbformat": 4,
 "nbformat_minor": 2
}
