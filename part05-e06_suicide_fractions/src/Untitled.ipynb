{
 "cells": [
  {
   "cell_type": "code",
   "execution_count": 1,
   "metadata": {},
   "outputs": [],
   "source": [
    "import numpy as np \n",
    "import pandas as pd"
   ]
  },
  {
   "cell_type": "code",
   "execution_count": 68,
   "metadata": {},
   "outputs": [
    {
     "data": {
      "text/plain": [
       "0.0002412773028549072"
      ]
     },
     "execution_count": 68,
     "metadata": {},
     "output_type": "execute_result"
    }
   ],
   "source": [
    "df = pd.read_csv(\"who_suicide_statistics.csv\")\n",
    "gp = df.groupby(\"country\")\n",
    "gp_pop = gp[\"population\"].sum()\n",
    "gp_suc = gp[\"suicides_no\"].sum()\n",
    "gp_suc_mean = gp_suc/gp_pop\n",
    "gp_suc_mean\n",
    "gp.get_group(\"Finland\")[\"suicides_no\"].mean()/gp.get_group(\"Finland\")[\"population\"].mean()\n"
   ]
  },
  {
   "cell_type": "code",
   "execution_count": 71,
   "metadata": {},
   "outputs": [
    {
     "data": {
      "text/plain": [
       "(7.462121212121212, 86992712.0)"
      ]
     },
     "execution_count": 71,
     "metadata": {},
     "output_type": "execute_result"
    }
   ],
   "source": [
    "suc = gp.get_group(\"Albania\")[\"suicides_no\"].mean()\n",
    "pop = gp.get_group(\"Albania\")[\"population\"].sum()\n",
    "suc,pop\n",
    "#gp.get_group(\"Albania\")[\"suicides_no\"].dropna().shape"
   ]
  },
  {
   "cell_type": "code",
   "execution_count": 56,
   "metadata": {},
   "outputs": [
    {
     "data": {
      "text/plain": [
       "0.0002700704383827572"
      ]
     },
     "execution_count": 56,
     "metadata": {},
     "output_type": "execute_result"
    }
   ],
   "source": [
    "sucs = gp.get_group(\"Belgium\")[\"suicides_no\"].sum()\n",
    "(sucs/348)/gp.get_group(\"Belgium\")[\"population\"].mean()#-gp.get_group(\"Finland\")[\"suicides_no\"].mean()"
   ]
  },
  {
   "cell_type": "code",
   "execution_count": 154,
   "metadata": {},
   "outputs": [
    {
     "ename": "KeyError",
     "evalue": "'country'",
     "output_type": "error",
     "traceback": [
      "\u001b[0;31m---------------------------------------------------------------------------\u001b[0m",
      "\u001b[0;31mKeyError\u001b[0m                                  Traceback (most recent call last)",
      "\u001b[0;32m<ipython-input-154-898eaab1f053>\u001b[0m in \u001b[0;36m<module>\u001b[0;34m\u001b[0m\n\u001b[1;32m      4\u001b[0m \u001b[0mshapes\u001b[0m \u001b[0;34m=\u001b[0m \u001b[0mgp\u001b[0m\u001b[0;34m.\u001b[0m\u001b[0mget_group\u001b[0m\u001b[0;34m(\u001b[0m\u001b[0;34m\"Finland\"\u001b[0m\u001b[0;34m)\u001b[0m\u001b[0;34m.\u001b[0m\u001b[0mshape\u001b[0m\u001b[0;34m\u001b[0m\u001b[0;34m\u001b[0m\u001b[0m\n\u001b[1;32m      5\u001b[0m \u001b[0mshapes\u001b[0m\u001b[0;34m[\u001b[0m\u001b[0;36m0\u001b[0m\u001b[0;34m]\u001b[0m\u001b[0;34m\u001b[0m\u001b[0;34m\u001b[0m\u001b[0m\n\u001b[0;32m----> 6\u001b[0;31m \u001b[0mall_s\u001b[0m \u001b[0;34m=\u001b[0m \u001b[0mgp\u001b[0m\u001b[0;34m.\u001b[0m\u001b[0mget_group\u001b[0m\u001b[0;34m(\u001b[0m\u001b[0;34m\"country\"\u001b[0m\u001b[0;34m)\u001b[0m\u001b[0;34m[\u001b[0m\u001b[0;34m\"suicides_no\"\u001b[0m\u001b[0;34m]\u001b[0m\u001b[0;34m/\u001b[0m\u001b[0mgp\u001b[0m\u001b[0;34m.\u001b[0m\u001b[0mget_group\u001b[0m\u001b[0;34m(\u001b[0m\u001b[0;34m\"country\"\u001b[0m\u001b[0;34m)\u001b[0m\u001b[0;34m[\u001b[0m\u001b[0;34m\"population\"\u001b[0m\u001b[0;34m]\u001b[0m\u001b[0;34m\u001b[0m\u001b[0;34m\u001b[0m\u001b[0m\n\u001b[0m\u001b[1;32m      7\u001b[0m \u001b[0mall_s\u001b[0m\u001b[0;34m.\u001b[0m\u001b[0mmean\u001b[0m\u001b[0;34m(\u001b[0m\u001b[0;34m)\u001b[0m\u001b[0;34m\u001b[0m\u001b[0;34m\u001b[0m\u001b[0m\n\u001b[1;32m      8\u001b[0m \u001b[0;34m\u001b[0m\u001b[0m\n",
      "\u001b[0;32m~/anaconda3/lib/python3.7/site-packages/pandas/core/groupby/groupby.py\u001b[0m in \u001b[0;36mget_group\u001b[0;34m(self, name, obj)\u001b[0m\n\u001b[1;32m    646\u001b[0m         \u001b[0minds\u001b[0m \u001b[0;34m=\u001b[0m \u001b[0mself\u001b[0m\u001b[0;34m.\u001b[0m\u001b[0m_get_index\u001b[0m\u001b[0;34m(\u001b[0m\u001b[0mname\u001b[0m\u001b[0;34m)\u001b[0m\u001b[0;34m\u001b[0m\u001b[0;34m\u001b[0m\u001b[0m\n\u001b[1;32m    647\u001b[0m         \u001b[0;32mif\u001b[0m \u001b[0;32mnot\u001b[0m \u001b[0mlen\u001b[0m\u001b[0;34m(\u001b[0m\u001b[0minds\u001b[0m\u001b[0;34m)\u001b[0m\u001b[0;34m:\u001b[0m\u001b[0;34m\u001b[0m\u001b[0;34m\u001b[0m\u001b[0m\n\u001b[0;32m--> 648\u001b[0;31m             \u001b[0;32mraise\u001b[0m \u001b[0mKeyError\u001b[0m\u001b[0;34m(\u001b[0m\u001b[0mname\u001b[0m\u001b[0;34m)\u001b[0m\u001b[0;34m\u001b[0m\u001b[0;34m\u001b[0m\u001b[0m\n\u001b[0m\u001b[1;32m    649\u001b[0m \u001b[0;34m\u001b[0m\u001b[0m\n\u001b[1;32m    650\u001b[0m         \u001b[0;32mreturn\u001b[0m \u001b[0mobj\u001b[0m\u001b[0;34m.\u001b[0m\u001b[0m_take\u001b[0m\u001b[0;34m(\u001b[0m\u001b[0minds\u001b[0m\u001b[0;34m,\u001b[0m \u001b[0maxis\u001b[0m\u001b[0;34m=\u001b[0m\u001b[0mself\u001b[0m\u001b[0;34m.\u001b[0m\u001b[0maxis\u001b[0m\u001b[0;34m)\u001b[0m\u001b[0;34m\u001b[0m\u001b[0;34m\u001b[0m\u001b[0m\n",
      "\u001b[0;31mKeyError\u001b[0m: 'country'"
     ]
    }
   ],
   "source": [
    "gp.get_group(\"Finland\")[\"suicides_no\"].sum()/gp.get_group(\"Finland\")[\"population\"].sum()\n",
    "A = gp.get_group(\"Belgium\").dropna(how=\"any\",axis=0)\n",
    "A[\"suicides_no\"].mean()/A[\"population\"].mean()\n",
    "shapes = gp.get_group(\"Finland\").shape\n",
    "shapes[0]\n",
    "all_s = gp.get_group(\"Finland\")[\"suicides_no\"]/gp.get_group(\"Finland\")[\"population\"]\n",
    "all_s.mean()\n",
    "\n"
   ]
  },
  {
   "cell_type": "code",
   "execution_count": 7,
   "metadata": {},
   "outputs": [
    {
     "data": {
      "text/plain": [
       "country\n",
       "Albania                               0.000035\n",
       "Anguilla                                   NaN\n",
       "Antigua and Barbuda                   0.000005\n",
       "Argentina                             0.000105\n",
       "Armenia                               0.000033\n",
       "Aruba                                 0.000076\n",
       "Australia                             0.000130\n",
       "Austria                               0.000248\n",
       "Azerbaijan                            0.000032\n",
       "Bahamas                               0.000014\n",
       "Bahrain                               0.000019\n",
       "Barbados                              0.000028\n",
       "Belarus                               0.000295\n",
       "Belgium                               0.000222\n",
       "Belize                                0.000059\n",
       "Bermuda                               0.000048\n",
       "Bolivia                                    NaN\n",
       "Bosnia and Herzegovina                0.000115\n",
       "Brazil                                0.000057\n",
       "British Virgin Islands                     NaN\n",
       "Brunei Darussalam                     0.000024\n",
       "Bulgaria                              0.000198\n",
       "Cabo Verde                            0.000112\n",
       "Canada                                0.000130\n",
       "Cayman Islands                        0.000000\n",
       "Chile                                 0.000102\n",
       "Colombia                              0.000054\n",
       "Costa Rica                            0.000070\n",
       "Croatia                               0.000248\n",
       "Cuba                                  0.000212\n",
       "                                        ...   \n",
       "Saudi Arabia                               NaN\n",
       "Serbia                                0.000222\n",
       "Seychelles                            0.000075\n",
       "Singapore                             0.000178\n",
       "Slovakia                              0.000126\n",
       "Slovenia                              0.000310\n",
       "South Africa                          0.000010\n",
       "Spain                                 0.000092\n",
       "Sri Lanka                             0.000378\n",
       "Suriname                              0.000221\n",
       "Sweden                                0.000146\n",
       "Switzerland                           0.000190\n",
       "Syrian Arab Republic                       NaN\n",
       "TFYR Macedonia                        0.000112\n",
       "Tajikistan                                 NaN\n",
       "Thailand                              0.000072\n",
       "Trinidad and Tobago                   0.000127\n",
       "Tunisia                                    NaN\n",
       "Turkey                                0.000024\n",
       "Turkmenistan                          0.000090\n",
       "Turks and Caicos Islands                   NaN\n",
       "Ukraine                               0.000267\n",
       "United Arab Emirates                  0.000013\n",
       "United Kingdom                        0.000078\n",
       "United States of America              0.000140\n",
       "Uruguay                               0.000187\n",
       "Uzbekistan                            0.000088\n",
       "Venezuela (Bolivarian Republic of)    0.000067\n",
       "Virgin Islands (USA)                  0.000070\n",
       "Zimbabwe                                   NaN\n",
       "Name: suicides_no, Length: 141, dtype: float64"
      ]
     },
     "execution_count": 7,
     "metadata": {},
     "output_type": "execute_result"
    }
   ],
   "source": [
    "import pandas as pd\n",
    "import numpy as np\n",
    "df = pd.read_csv(\"who_suicide_statistics.csv\")\n",
    "gp2 =df.groupby(\"country\")[\"suicides_no\"].apply(lambda x: np.mean(x.div(df[\"population\"])))\n",
    "\n",
    "gp2\n",
    "#pop = df.groupby('country')[\"population\"]\n",
    "#df.groupby('country')[\"suicides_no\"].div(pop)\n",
    "\n",
    "#df[\"suicides_no\"] = df[\"suicides_no\"].div(df[\"population\"])\n",
    "#df"
   ]
  }
 ],
 "metadata": {
  "kernelspec": {
   "display_name": "Python 3",
   "language": "python",
   "name": "python3"
  },
  "language_info": {
   "codemirror_mode": {
    "name": "ipython",
    "version": 3
   },
   "file_extension": ".py",
   "mimetype": "text/x-python",
   "name": "python",
   "nbconvert_exporter": "python",
   "pygments_lexer": "ipython3",
   "version": "3.7.3"
  }
 },
 "nbformat": 4,
 "nbformat_minor": 2
}
