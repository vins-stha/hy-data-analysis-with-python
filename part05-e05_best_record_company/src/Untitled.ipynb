{
 "cells": [
  {
   "cell_type": "code",
   "execution_count": 2,
   "metadata": {},
   "outputs": [],
   "source": [
    "import numpy as np\n",
    "import pandas as pd\n"
   ]
  },
  {
   "cell_type": "code",
   "execution_count": 21,
   "metadata": {},
   "outputs": [
    {
     "data": {
      "text/html": [
       "<div>\n",
       "<style scoped>\n",
       "    .dataframe tbody tr th:only-of-type {\n",
       "        vertical-align: middle;\n",
       "    }\n",
       "\n",
       "    .dataframe tbody tr th {\n",
       "        vertical-align: top;\n",
       "    }\n",
       "\n",
       "    .dataframe thead th {\n",
       "        text-align: right;\n",
       "    }\n",
       "</style>\n",
       "<table border=\"1\" class=\"dataframe\">\n",
       "  <thead>\n",
       "    <tr style=\"text-align: right;\">\n",
       "      <th></th>\n",
       "      <th>Pos</th>\n",
       "      <th>LW</th>\n",
       "      <th>Title</th>\n",
       "      <th>Artist</th>\n",
       "      <th>Publisher</th>\n",
       "      <th>Peak Pos</th>\n",
       "      <th>WoC</th>\n",
       "    </tr>\n",
       "  </thead>\n",
       "  <tbody>\n",
       "    <tr>\n",
       "      <th>1</th>\n",
       "      <td>2</td>\n",
       "      <td>6</td>\n",
       "      <td>GLAD ALL OVER</td>\n",
       "      <td>THE DAVE CLARK FIVE</td>\n",
       "      <td>COLUMBIA</td>\n",
       "      <td>2</td>\n",
       "      <td>7</td>\n",
       "    </tr>\n",
       "    <tr>\n",
       "      <th>3</th>\n",
       "      <td>4</td>\n",
       "      <td>3</td>\n",
       "      <td>YOU WERE MADE FOR ME</td>\n",
       "      <td>FREDDIE AND THE DREAMERS</td>\n",
       "      <td>COLUMBIA</td>\n",
       "      <td>3</td>\n",
       "      <td>9</td>\n",
       "    </tr>\n",
       "    <tr>\n",
       "      <th>9</th>\n",
       "      <td>10</td>\n",
       "      <td>8</td>\n",
       "      <td>DON'T TALK TO HIM</td>\n",
       "      <td>CLIFF RICHARD</td>\n",
       "      <td>COLUMBIA</td>\n",
       "      <td>2</td>\n",
       "      <td>9</td>\n",
       "    </tr>\n",
       "    <tr>\n",
       "      <th>11</th>\n",
       "      <td>12</td>\n",
       "      <td>11</td>\n",
       "      <td>GERONIMO</td>\n",
       "      <td>THE SHADOWS</td>\n",
       "      <td>COLUMBIA</td>\n",
       "      <td>11</td>\n",
       "      <td>5</td>\n",
       "    </tr>\n",
       "    <tr>\n",
       "      <th>15</th>\n",
       "      <td>16</td>\n",
       "      <td>12</td>\n",
       "      <td>YOU'LL NEVER WALK ALONE</td>\n",
       "      <td>GERRY AND THE PACEMAKERS</td>\n",
       "      <td>COLUMBIA</td>\n",
       "      <td>1</td>\n",
       "      <td>13</td>\n",
       "    </tr>\n",
       "    <tr>\n",
       "      <th>24</th>\n",
       "      <td>25</td>\n",
       "      <td>25</td>\n",
       "      <td>I (WHO HAVE NOTHING)</td>\n",
       "      <td>SHIRLEY BASSEY</td>\n",
       "      <td>COLUMBIA</td>\n",
       "      <td>6</td>\n",
       "      <td>14</td>\n",
       "    </tr>\n",
       "    <tr>\n",
       "      <th>39</th>\n",
       "      <td>40</td>\n",
       "      <td>Re</td>\n",
       "      <td>WALKING ALONE</td>\n",
       "      <td>RICHARD ANTHONY</td>\n",
       "      <td>COLUMBIA</td>\n",
       "      <td>37</td>\n",
       "      <td>2</td>\n",
       "    </tr>\n",
       "  </tbody>\n",
       "</table>\n",
       "</div>"
      ],
      "text/plain": [
       "    Pos  LW                    Title                    Artist Publisher  \\\n",
       "1     2   6            GLAD ALL OVER       THE DAVE CLARK FIVE  COLUMBIA   \n",
       "3     4   3     YOU WERE MADE FOR ME  FREDDIE AND THE DREAMERS  COLUMBIA   \n",
       "9    10   8        DON'T TALK TO HIM             CLIFF RICHARD  COLUMBIA   \n",
       "11   12  11                 GERONIMO               THE SHADOWS  COLUMBIA   \n",
       "15   16  12  YOU'LL NEVER WALK ALONE  GERRY AND THE PACEMAKERS  COLUMBIA   \n",
       "24   25  25     I (WHO HAVE NOTHING)            SHIRLEY BASSEY  COLUMBIA   \n",
       "39   40  Re            WALKING ALONE           RICHARD ANTHONY  COLUMBIA   \n",
       "\n",
       "    Peak Pos  WoC  \n",
       "1          2    7  \n",
       "3          3    9  \n",
       "9          2    9  \n",
       "11        11    5  \n",
       "15         1   13  \n",
       "24         6   14  \n",
       "39        37    2  "
      ]
     },
     "execution_count": 21,
     "metadata": {},
     "output_type": "execute_result"
    }
   ],
   "source": [
    "df = pd.read_csv(\"UK-top40-1964-1-2.tsv\", sep=\"\\t\")\n",
    "df.head()\n",
    "a = df.loc[df[\"Publisher\"]==\"COLUMBIA\"]\n",
    "a"
   ]
  },
  {
   "cell_type": "code",
   "execution_count": 18,
   "metadata": {
    "scrolled": true
   },
   "outputs": [
    {
     "data": {
      "text/plain": [
       "Publisher\n",
       "COLPIX                5\n",
       "COLUMBIA             59\n",
       "CORAL                 3\n",
       "DECCA                37\n",
       "EMBER                 4\n",
       "FONTANA               5\n",
       "HMV                   9\n",
       "LONDON               23\n",
       "PARLOPHONE           50\n",
       "PHILIPS              18\n",
       "PYE                  24\n",
       "PYE INTERNATIONAL     2\n",
       "RCA                  12\n",
       "UNITED ARTISTS        5\n",
       "WARNER BROTHERS      11\n",
       "Name: WoC, dtype: int64"
      ]
     },
     "execution_count": 18,
     "metadata": {},
     "output_type": "execute_result"
    }
   ],
   "source": [
    "A = df.groupby([\"Publisher\"])\n",
    "A[\"WoC\"].sum()"
   ]
  },
  {
   "cell_type": "code",
   "execution_count": 44,
   "metadata": {},
   "outputs": [
    {
     "data": {
      "text/plain": [
       "'COLUMBIA'"
      ]
     },
     "execution_count": 44,
     "metadata": {},
     "output_type": "execute_result"
    }
   ],
   "source": [
    "publisher = df.groupby(\"Publisher\")\n",
    "\n",
    "v = publisher[\"WoC\"].apply(lambda x:(x.sum())).sort_values(ascending=False)\n",
    "\n",
    "liste = v.sort_values(ascending = False)\n",
    "\n",
    "liste[0], liste.index[0]\n",
    "#df['Publisher'].value_counts().idxmax()\n",
    "    \n",
    "\n",
    "df.loc[df[\"Publisher\"]==liste.index[0]]\n",
    "\n",
    "v.index[0]\n"
   ]
  },
  {
   "cell_type": "markdown",
   "metadata": {},
   "source": [
    "3+4 \n"
   ]
  },
  {
   "cell_type": "code",
   "execution_count": null,
   "metadata": {},
   "outputs": [],
   "source": [
    "try:\n",
    "    print(\"wer are \")\n",
    "    df[df['Publisher'].str.contains(\"WARNER BROTHERS\")]\n",
    "    \n",
    "except Exception e:\n",
    "    print(e)"
   ]
  },
  {
   "cell_type": "raw",
   "metadata": {},
   "source": [
    "g =df.groupby([\"Publisher\"])\n",
    "try:\n",
    "    for key, group in g:\n",
    "        print(key, group)\n",
    "except Exception as e:\n",
    "    print(e)\n",
    "\n",
    "      #print(key, group)\n",
    "    #g = df.groupby([\"Publis"
   ]
  }
 ],
 "metadata": {
  "kernelspec": {
   "display_name": "Python 3",
   "language": "python",
   "name": "python3"
  },
  "language_info": {
   "codemirror_mode": {
    "name": "ipython",
    "version": 3
   },
   "file_extension": ".py",
   "mimetype": "text/x-python",
   "name": "python",
   "nbconvert_exporter": "python",
   "pygments_lexer": "ipython3",
   "version": "3.7.3"
  }
 },
 "nbformat": 4,
 "nbformat_minor": 2
}
