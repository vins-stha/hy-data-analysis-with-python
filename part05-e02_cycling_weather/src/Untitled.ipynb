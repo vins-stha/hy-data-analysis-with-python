{
 "cells": [
  {
   "cell_type": "code",
   "execution_count": 2,
   "metadata": {},
   "outputs": [],
   "source": [
    "import pandas as pd\n",
    "import numpy as np"
   ]
  },
  {
   "cell_type": "code",
   "execution_count": 50,
   "metadata": {},
   "outputs": [
    {
     "data": {
      "text/html": [
       "<div>\n",
       "<style scoped>\n",
       "    .dataframe tbody tr th:only-of-type {\n",
       "        vertical-align: middle;\n",
       "    }\n",
       "\n",
       "    .dataframe tbody tr th {\n",
       "        vertical-align: top;\n",
       "    }\n",
       "\n",
       "    .dataframe thead th {\n",
       "        text-align: right;\n",
       "    }\n",
       "</style>\n",
       "<table border=\"1\" class=\"dataframe\">\n",
       "  <thead>\n",
       "    <tr style=\"text-align: right;\">\n",
       "      <th></th>\n",
       "      <th>Year</th>\n",
       "      <th>m</th>\n",
       "      <th>d</th>\n",
       "      <th>Time</th>\n",
       "      <th>Time zone</th>\n",
       "      <th>Precipitation amount (mm)</th>\n",
       "      <th>Snow depth (cm)</th>\n",
       "      <th>Air temperature (degC)</th>\n",
       "    </tr>\n",
       "  </thead>\n",
       "  <tbody>\n",
       "    <tr>\n",
       "      <th>0</th>\n",
       "      <td>2017</td>\n",
       "      <td>1</td>\n",
       "      <td>1</td>\n",
       "      <td>00:00</td>\n",
       "      <td>UTC</td>\n",
       "      <td>-1.0</td>\n",
       "      <td>-1.0</td>\n",
       "      <td>0.6</td>\n",
       "    </tr>\n",
       "    <tr>\n",
       "      <th>1</th>\n",
       "      <td>2017</td>\n",
       "      <td>1</td>\n",
       "      <td>2</td>\n",
       "      <td>00:00</td>\n",
       "      <td>UTC</td>\n",
       "      <td>4.4</td>\n",
       "      <td>-1.0</td>\n",
       "      <td>-3.9</td>\n",
       "    </tr>\n",
       "    <tr>\n",
       "      <th>2</th>\n",
       "      <td>2017</td>\n",
       "      <td>1</td>\n",
       "      <td>3</td>\n",
       "      <td>00:00</td>\n",
       "      <td>UTC</td>\n",
       "      <td>6.6</td>\n",
       "      <td>7.0</td>\n",
       "      <td>-6.5</td>\n",
       "    </tr>\n",
       "    <tr>\n",
       "      <th>3</th>\n",
       "      <td>2017</td>\n",
       "      <td>1</td>\n",
       "      <td>4</td>\n",
       "      <td>00:00</td>\n",
       "      <td>UTC</td>\n",
       "      <td>-1.0</td>\n",
       "      <td>13.0</td>\n",
       "      <td>-12.8</td>\n",
       "    </tr>\n",
       "    <tr>\n",
       "      <th>4</th>\n",
       "      <td>2017</td>\n",
       "      <td>1</td>\n",
       "      <td>5</td>\n",
       "      <td>00:00</td>\n",
       "      <td>UTC</td>\n",
       "      <td>-1.0</td>\n",
       "      <td>10.0</td>\n",
       "      <td>-17.8</td>\n",
       "    </tr>\n",
       "  </tbody>\n",
       "</table>\n",
       "</div>"
      ],
      "text/plain": [
       "   Year  m  d   Time Time zone  Precipitation amount (mm)  Snow depth (cm)  \\\n",
       "0  2017  1  1  00:00       UTC                       -1.0             -1.0   \n",
       "1  2017  1  2  00:00       UTC                        4.4             -1.0   \n",
       "2  2017  1  3  00:00       UTC                        6.6              7.0   \n",
       "3  2017  1  4  00:00       UTC                       -1.0             13.0   \n",
       "4  2017  1  5  00:00       UTC                       -1.0             10.0   \n",
       "\n",
       "   Air temperature (degC)  \n",
       "0                     0.6  \n",
       "1                    -3.9  \n",
       "2                    -6.5  \n",
       "3                   -12.8  \n",
       "4                   -17.8  "
      ]
     },
     "execution_count": 50,
     "metadata": {},
     "output_type": "execute_result"
    }
   ],
   "source": [
    "weather = pd.read_csv(\"kumpula-weather-2017.csv\",sep=\",\")\n",
    "#weather = weather.drop([\"m\",\"d\",\"Time\",\"Time zone\"], axis = 1)\n",
    "weather.head()\n",
    "\n"
   ]
  },
  {
   "cell_type": "code",
   "execution_count": 51,
   "metadata": {},
   "outputs": [
    {
     "data": {
      "text/plain": [
       "['Year',\n",
       " 'Precipitation amount (mm)',\n",
       " 'Snow depth (cm)',\n",
       " 'Air temperature (degC)',\n",
       " 'Weekday',\n",
       " 'Day',\n",
       " 'Month',\n",
       " 'Hour',\n",
       " 'Auroransilta',\n",
       " 'Eteläesplanadi',\n",
       " 'Huopalahti (asema)',\n",
       " 'Kaisaniemi/Eläintarhanlahti',\n",
       " 'Kaivokatu',\n",
       " 'Kulosaaren silta et.',\n",
       " 'Kulosaaren silta po. ',\n",
       " 'Kuusisaarentie',\n",
       " 'Käpylä, Pohjoisbaana',\n",
       " 'Lauttasaaren silta eteläpuoli',\n",
       " 'Merikannontie',\n",
       " 'Munkkiniemen silta eteläpuoli',\n",
       " 'Munkkiniemi silta pohjoispuoli',\n",
       " 'Heperian puisto/Ooppera',\n",
       " 'Pitkäsilta itäpuoli',\n",
       " 'Pitkäsilta länsipuoli',\n",
       " 'Lauttasaaren silta pohjoispuoli',\n",
       " 'Ratapihantie',\n",
       " 'Viikintie',\n",
       " 'Baana']"
      ]
     },
     "execution_count": 51,
     "metadata": {},
     "output_type": "execute_result"
    }
   ],
   "source": [
    "cyclist = pd.read_csv(\"Helsingin_pyorailijamaarat.csv\",sep=\";\")\n",
    "def split_date(df):\n",
    "    \n",
    "    d = df[\"Päivämäärä\"].str.split(expand=True)\n",
    "    d.columns = [\"Weekday\", \"Day\", \"Month\", \"Year\", \"Hour\"]\n",
    "\n",
    "    hourmin = d[\"Hour\"].str.split(\":\", expand=True)\n",
    "    d[\"Hour\"] = hourmin.iloc[:, 0]\n",
    "    \n",
    "    d[\"Weekday\"] = d[\"Weekday\"].map({\"ma\":\"Mon\",\"ti\":\"Tue\",\"ke\":\"Wed\",\"to\":\"Thu\",\n",
    "                        \"pe\":\"Fri\",\"la\":\"Sat\", \"su\":\"Sun\"\n",
    "\n",
    "                        })\n",
    "    d[\"Month\"] = d[\"Month\"].map({\"tammi\":1,\"helmi\":2,\"maalis\":3,\n",
    "                                        \"huhti\":4,\"touko\":5,\"kesä\":6, \"heinä\":7,\n",
    "                                        \"elo\":8,\"syys\":9,\"loka\":10,\n",
    "                                        \"marras\":11,\"joulu\":12\n",
    "                        })\n",
    "    \n",
    "    d = d.astype({\"Weekday\": object, \"Day\": int, \"Month\": int, \"Year\": int, \"Hour\": int})\n",
    "    return d\n",
    "cyclist.dropna(how=\"all\",inplace = True)\n",
    "dates = split_date(cyclist)\n",
    "cyclist = cyclist.drop(\"Päivämäärä\",axis=1)\n",
    "       # print(df.shape, dates.shape)\n",
    "df_cyclist = pd.concat([dates,cyclist],axis=1)\n",
    "      #  print(df.head())\n",
    "df_cyclist = df_cyclist.drop(\"Unnamed: 21\",axis = 1)\n",
    "#df_cyclist = df_cyclist.drop([\"Day\",\"Month\",\"Hour\",\"Weekday\"],axis=1)\n",
    "df_cyclist.head()\n"
   ]
  },
  {
   "cell_type": "code",
   "execution_count": 47,
   "metadata": {},
   "outputs": [
    {
     "data": {
      "text/plain": [
       "(3197400, 28)"
      ]
     },
     "execution_count": 47,
     "metadata": {},
     "output_type": "execute_result"
    }
   ],
   "source": [
    "final = pd.merge(right = df_cyclist, left = weather,   how=\"inner\")\n",
    "final.shape"
   ]
  }
 ],
 "metadata": {
  "kernelspec": {
   "display_name": "Python 3",
   "language": "python",
   "name": "python3"
  },
  "language_info": {
   "codemirror_mode": {
    "name": "ipython",
    "version": 3
   },
   "file_extension": ".py",
   "mimetype": "text/x-python",
   "name": "python",
   "nbconvert_exporter": "python",
   "pygments_lexer": "ipython3",
   "version": "3.7.3"
  }
 },
 "nbformat": 4,
 "nbformat_minor": 2
}
