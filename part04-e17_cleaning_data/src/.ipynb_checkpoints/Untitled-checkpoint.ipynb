{
 "cells": [
  {
   "cell_type": "code",
   "execution_count": 1,
   "metadata": {},
   "outputs": [],
   "source": [
    "import pandas as pd\n",
    "import numpy as np\n"
   ]
  },
  {
   "cell_type": "code",
   "execution_count": 7,
   "metadata": {},
   "outputs": [
    {
     "data": {
      "text/html": [
       "<div>\n",
       "<style scoped>\n",
       "    .dataframe tbody tr th:only-of-type {\n",
       "        vertical-align: middle;\n",
       "    }\n",
       "\n",
       "    .dataframe tbody tr th {\n",
       "        vertical-align: top;\n",
       "    }\n",
       "\n",
       "    .dataframe thead th {\n",
       "        text-align: right;\n",
       "    }\n",
       "</style>\n",
       "<table border=\"1\" class=\"dataframe\">\n",
       "  <thead>\n",
       "    <tr style=\"text-align: right;\">\n",
       "      <th></th>\n",
       "      <th>President</th>\n",
       "      <th>Start</th>\n",
       "      <th>Last</th>\n",
       "      <th>Seasons</th>\n",
       "      <th>Vice-president</th>\n",
       "    </tr>\n",
       "  </thead>\n",
       "  <tbody>\n",
       "    <tr>\n",
       "      <th>0</th>\n",
       "      <td>Donald Trump</td>\n",
       "      <td>2017 Jan</td>\n",
       "      <td>-</td>\n",
       "      <td>1</td>\n",
       "      <td>Mike pence</td>\n",
       "    </tr>\n",
       "    <tr>\n",
       "      <th>1</th>\n",
       "      <td>Barack Obama</td>\n",
       "      <td>2009</td>\n",
       "      <td>2017</td>\n",
       "      <td>2</td>\n",
       "      <td>joe Biden</td>\n",
       "    </tr>\n",
       "    <tr>\n",
       "      <th>2</th>\n",
       "      <td>Bush, George</td>\n",
       "      <td>2001</td>\n",
       "      <td>2009</td>\n",
       "      <td>2</td>\n",
       "      <td>Cheney, dick</td>\n",
       "    </tr>\n",
       "    <tr>\n",
       "      <th>3</th>\n",
       "      <td>Clinton, Bill</td>\n",
       "      <td>1993</td>\n",
       "      <td>2001</td>\n",
       "      <td>two</td>\n",
       "      <td>gore, Al</td>\n",
       "    </tr>\n",
       "  </tbody>\n",
       "</table>\n",
       "</div>"
      ],
      "text/plain": [
       "       President     Start  Last Seasons Vice-president\n",
       "0   Donald Trump  2017 Jan     -       1     Mike pence\n",
       "1   Barack Obama      2009  2017       2      joe Biden\n",
       "2   Bush, George      2001  2009       2   Cheney, dick\n",
       "3  Clinton, Bill      1993  2001     two       gore, Al"
      ]
     },
     "execution_count": 7,
     "metadata": {},
     "output_type": "execute_result"
    }
   ],
   "source": [
    "df = pd.read_csv(\"presidents.tsv\", sep=\"\\t\")\n",
    "df"
   ]
  },
  {
   "cell_type": "code",
   "execution_count": 17,
   "metadata": {},
   "outputs": [
    {
     "ename": "SyntaxError",
     "evalue": "invalid syntax (<ipython-input-17-26d39cce19c3>, line 6)",
     "output_type": "error",
     "traceback": [
      "\u001b[0;36m  File \u001b[0;32m\"<ipython-input-17-26d39cce19c3>\"\u001b[0;36m, line \u001b[0;32m6\u001b[0m\n\u001b[0;31m    try:\u001b[0m\n\u001b[0m      ^\u001b[0m\n\u001b[0;31mSyntaxError\u001b[0m\u001b[0;31m:\u001b[0m invalid syntax\n"
     ]
    }
   ],
   "source": [
    "df.dtypes\n",
    "df.shape\n",
    "names = pd.Series([\"donald trump\", \"theresa, may\", \"angela\", \"vladimir\"])\n",
    "names.str.capitalize(\n",
    "a = \"Clinton, Bill\"\n",
    "if(\",\" in a):        \n",
    "     print(\"has\")\n",
    "else:\n",
    "    print(\"No\")\n",
    "\n"
   ]
  }
 ],
 "metadata": {
  "kernelspec": {
   "display_name": "Python 3",
   "language": "python",
   "name": "python3"
  },
  "language_info": {
   "codemirror_mode": {
    "name": "ipython",
    "version": 3
   },
   "file_extension": ".py",
   "mimetype": "text/x-python",
   "name": "python",
   "nbconvert_exporter": "python",
   "pygments_lexer": "ipython3",
   "version": "3.7.3"
  }
 },
 "nbformat": 4,
 "nbformat_minor": 2
}
